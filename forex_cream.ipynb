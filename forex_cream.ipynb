{
 "cells": [
  {
   "cell_type": "code",
   "execution_count": 7,
   "id": "4363c2e5-7535-4a25-be65-e6e389cafdb9",
   "metadata": {},
   "outputs": [
    {
     "name": "stdout",
     "output_type": "stream",
     "text": [
      "Collecting yfinance\n",
      "  Downloading yfinance-0.2.37-py2.py3-none-any.whl (72 kB)\n",
      "\u001b[2K     \u001b[90m━━━━━━━━━━━━━━━━━━━━━━━━━━━━━━━━━━━━━━━━\u001b[0m \u001b[32m73.0/73.0 kB\u001b[0m \u001b[31m1.8 MB/s\u001b[0m eta \u001b[36m0:00:00\u001b[0m\n",
      "\u001b[?25hRequirement already satisfied: beautifulsoup4>=4.11.1 in /Users/thomaspile/anaconda3/lib/python3.10/site-packages (from yfinance) (4.11.1)\n",
      "Requirement already satisfied: pandas>=1.3.0 in /Users/thomaspile/anaconda3/lib/python3.10/site-packages (from yfinance) (1.4.2)\n",
      "Collecting frozendict>=2.3.4\n",
      "  Downloading frozendict-2.4.1-cp310-cp310-macosx_11_0_arm64.whl (37 kB)\n",
      "Collecting html5lib>=1.1\n",
      "  Downloading html5lib-1.1-py2.py3-none-any.whl (112 kB)\n",
      "\u001b[2K     \u001b[90m━━━━━━━━━━━━━━━━━━━━━━━━━━━━━━━━━━━━━━━\u001b[0m \u001b[32m112.2/112.2 kB\u001b[0m \u001b[31m3.2 MB/s\u001b[0m eta \u001b[36m0:00:00\u001b[0m\n",
      "\u001b[?25hCollecting multitasking>=0.0.7\n",
      "  Downloading multitasking-0.0.11-py3-none-any.whl (8.5 kB)\n",
      "Collecting peewee>=3.16.2\n",
      "  Downloading peewee-3.17.1.tar.gz (3.0 MB)\n",
      "\u001b[2K     \u001b[90m━━━━━━━━━━━━━━━━━━━━━━━━━━━━━━━━━━━━━━━━\u001b[0m \u001b[32m3.0/3.0 MB\u001b[0m \u001b[31m7.8 MB/s\u001b[0m eta \u001b[36m0:00:00\u001b[0m00:01\u001b[0m00:01\u001b[0m\n",
      "\u001b[?25h  Installing build dependencies ... \u001b[?25ldone\n",
      "\u001b[?25h  Getting requirements to build wheel ... \u001b[?25ldone\n",
      "\u001b[?25h  Preparing metadata (pyproject.toml) ... \u001b[?25ldone\n",
      "\u001b[?25hCollecting requests>=2.31\n",
      "  Downloading requests-2.31.0-py3-none-any.whl (62 kB)\n",
      "\u001b[2K     \u001b[90m━━━━━━━━━━━━━━━━━━━━━━━━━━━━━━━━━━━━━━━━\u001b[0m \u001b[32m62.6/62.6 kB\u001b[0m \u001b[31m5.8 MB/s\u001b[0m eta \u001b[36m0:00:00\u001b[0m\n",
      "\u001b[?25hRequirement already satisfied: numpy>=1.16.5 in /Users/thomaspile/anaconda3/lib/python3.10/site-packages (from yfinance) (1.21.5)\n",
      "Requirement already satisfied: appdirs>=1.4.4 in /Users/thomaspile/anaconda3/lib/python3.10/site-packages (from yfinance) (1.4.4)\n",
      "Requirement already satisfied: pytz>=2022.5 in /Users/thomaspile/anaconda3/lib/python3.10/site-packages (from yfinance) (2022.7)\n",
      "Requirement already satisfied: lxml>=4.9.1 in /Users/thomaspile/anaconda3/lib/python3.10/site-packages (from yfinance) (4.9.1)\n",
      "Requirement already satisfied: soupsieve>1.2 in /Users/thomaspile/anaconda3/lib/python3.10/site-packages (from beautifulsoup4>=4.11.1->yfinance) (2.3.2.post1)\n",
      "Requirement already satisfied: six>=1.9 in /Users/thomaspile/anaconda3/lib/python3.10/site-packages (from html5lib>=1.1->yfinance) (1.16.0)\n",
      "Requirement already satisfied: webencodings in /Users/thomaspile/anaconda3/lib/python3.10/site-packages (from html5lib>=1.1->yfinance) (0.5.1)\n",
      "Requirement already satisfied: python-dateutil>=2.8.1 in /Users/thomaspile/anaconda3/lib/python3.10/site-packages (from pandas>=1.3.0->yfinance) (2.8.2)\n",
      "Requirement already satisfied: certifi>=2017.4.17 in /Users/thomaspile/anaconda3/lib/python3.10/site-packages (from requests>=2.31->yfinance) (2024.2.2)\n",
      "Requirement already satisfied: charset-normalizer<4,>=2 in /Users/thomaspile/anaconda3/lib/python3.10/site-packages (from requests>=2.31->yfinance) (2.0.4)\n",
      "Requirement already satisfied: idna<4,>=2.5 in /Users/thomaspile/anaconda3/lib/python3.10/site-packages (from requests>=2.31->yfinance) (3.4)\n",
      "Requirement already satisfied: urllib3<3,>=1.21.1 in /Users/thomaspile/anaconda3/lib/python3.10/site-packages (from requests>=2.31->yfinance) (1.26.14)\n",
      "Building wheels for collected packages: peewee\n",
      "  Building wheel for peewee (pyproject.toml) ... \u001b[?25ldone\n",
      "\u001b[?25h  Created wheel for peewee: filename=peewee-3.17.1-cp310-cp310-macosx_11_0_arm64.whl size=249469 sha256=85978bc9020b4254e32af7021c070b01542c9b116aa4485c8388ef3e4b713f46\n",
      "  Stored in directory: /Users/thomaspile/Library/Caches/pip/wheels/f3/60/5b/41a9bbd32037a7211f550249f5dc798e55c20d42c49deeaf25\n",
      "Successfully built peewee\n",
      "Installing collected packages: peewee, multitasking, requests, html5lib, frozendict, yfinance\n",
      "  Attempting uninstall: requests\n",
      "    Found existing installation: requests 2.28.1\n",
      "    Uninstalling requests-2.28.1:\n",
      "      Successfully uninstalled requests-2.28.1\n",
      "\u001b[31mERROR: pip's dependency resolver does not currently take into account all the packages that are installed. This behaviour is the source of the following dependency conflicts.\n",
      "conda-repo-cli 1.0.41 requires requests_mock, which is not installed.\n",
      "conda-repo-cli 1.0.41 requires clyent==1.2.1, but you have clyent 1.2.2 which is incompatible.\n",
      "conda-repo-cli 1.0.41 requires nbformat==5.4.0, but you have nbformat 5.7.0 which is incompatible.\n",
      "conda-repo-cli 1.0.41 requires requests==2.28.1, but you have requests 2.31.0 which is incompatible.\u001b[0m\u001b[31m\n",
      "\u001b[0mSuccessfully installed frozendict-2.4.1 html5lib-1.1 multitasking-0.0.11 peewee-3.17.1 requests-2.31.0 yfinance-0.2.37\n",
      "Note: you may need to restart the kernel to use updated packages.\n"
     ]
    }
   ],
   "source": [
    "%pip install yfinance"
   ]
  },
  {
   "cell_type": "code",
   "execution_count": 9,
   "id": "a2f600d5-09dc-48ce-9af3-717aeaedabeb",
   "metadata": {},
   "outputs": [],
   "source": [
    "import requests\n",
    "import yfinance as yf\n",
    "import pandas as pd"
   ]
  },
  {
   "cell_type": "code",
   "execution_count": 18,
   "id": "0253c45e-519f-453c-9a38-548a131318e6",
   "metadata": {},
   "outputs": [
    {
     "name": "stderr",
     "output_type": "stream",
     "text": [
      "[*********************100%%**********************]  1 of 1 completed\n"
     ]
    }
   ],
   "source": [
    "df_intervals = yf.download(\"EURUSD=X\", start=\"2024-2-14\", end=\"2024-4-14\", interval='15m')"
   ]
  },
  {
   "cell_type": "code",
   "execution_count": 19,
   "id": "ebb2021a-7721-4a36-9deb-71512b9f4c27",
   "metadata": {},
   "outputs": [
    {
     "data": {
      "text/html": [
       "<div>\n",
       "<style scoped>\n",
       "    .dataframe tbody tr th:only-of-type {\n",
       "        vertical-align: middle;\n",
       "    }\n",
       "\n",
       "    .dataframe tbody tr th {\n",
       "        vertical-align: top;\n",
       "    }\n",
       "\n",
       "    .dataframe thead th {\n",
       "        text-align: right;\n",
       "    }\n",
       "</style>\n",
       "<table border=\"1\" class=\"dataframe\">\n",
       "  <thead>\n",
       "    <tr style=\"text-align: right;\">\n",
       "      <th></th>\n",
       "      <th>Open</th>\n",
       "      <th>High</th>\n",
       "      <th>Low</th>\n",
       "      <th>Close</th>\n",
       "      <th>Adj Close</th>\n",
       "      <th>Volume</th>\n",
       "    </tr>\n",
       "    <tr>\n",
       "      <th>Datetime</th>\n",
       "      <th></th>\n",
       "      <th></th>\n",
       "      <th></th>\n",
       "      <th></th>\n",
       "      <th></th>\n",
       "      <th></th>\n",
       "    </tr>\n",
       "  </thead>\n",
       "  <tbody>\n",
       "    <tr>\n",
       "      <th>2024-02-14 00:00:00</th>\n",
       "      <td>1.071123</td>\n",
       "      <td>1.071123</td>\n",
       "      <td>1.070893</td>\n",
       "      <td>1.071008</td>\n",
       "      <td>1.071008</td>\n",
       "      <td>0</td>\n",
       "    </tr>\n",
       "    <tr>\n",
       "      <th>2024-02-14 00:15:00</th>\n",
       "      <td>1.071008</td>\n",
       "      <td>1.071467</td>\n",
       "      <td>1.071008</td>\n",
       "      <td>1.071467</td>\n",
       "      <td>1.071467</td>\n",
       "      <td>0</td>\n",
       "    </tr>\n",
       "    <tr>\n",
       "      <th>2024-02-14 00:30:00</th>\n",
       "      <td>1.071467</td>\n",
       "      <td>1.071582</td>\n",
       "      <td>1.071352</td>\n",
       "      <td>1.071352</td>\n",
       "      <td>1.071352</td>\n",
       "      <td>0</td>\n",
       "    </tr>\n",
       "    <tr>\n",
       "      <th>2024-02-14 00:45:00</th>\n",
       "      <td>1.071467</td>\n",
       "      <td>1.071697</td>\n",
       "      <td>1.071123</td>\n",
       "      <td>1.071123</td>\n",
       "      <td>1.071123</td>\n",
       "      <td>0</td>\n",
       "    </tr>\n",
       "    <tr>\n",
       "      <th>2024-02-14 01:00:00</th>\n",
       "      <td>1.071008</td>\n",
       "      <td>1.071237</td>\n",
       "      <td>1.070664</td>\n",
       "      <td>1.070893</td>\n",
       "      <td>1.070893</td>\n",
       "      <td>0</td>\n",
       "    </tr>\n",
       "    <tr>\n",
       "      <th>...</th>\n",
       "      <td>...</td>\n",
       "      <td>...</td>\n",
       "      <td>...</td>\n",
       "      <td>...</td>\n",
       "      <td>...</td>\n",
       "      <td>...</td>\n",
       "    </tr>\n",
       "    <tr>\n",
       "      <th>2024-04-12 21:15:00</th>\n",
       "      <td>1.064623</td>\n",
       "      <td>1.064623</td>\n",
       "      <td>1.064509</td>\n",
       "      <td>1.064509</td>\n",
       "      <td>1.064509</td>\n",
       "      <td>0</td>\n",
       "    </tr>\n",
       "    <tr>\n",
       "      <th>2024-04-12 21:30:00</th>\n",
       "      <td>1.064509</td>\n",
       "      <td>1.064623</td>\n",
       "      <td>1.064396</td>\n",
       "      <td>1.064509</td>\n",
       "      <td>1.064509</td>\n",
       "      <td>0</td>\n",
       "    </tr>\n",
       "    <tr>\n",
       "      <th>2024-04-12 21:45:00</th>\n",
       "      <td>1.064509</td>\n",
       "      <td>1.064509</td>\n",
       "      <td>1.064396</td>\n",
       "      <td>1.064396</td>\n",
       "      <td>1.064396</td>\n",
       "      <td>0</td>\n",
       "    </tr>\n",
       "    <tr>\n",
       "      <th>2024-04-12 22:00:00</th>\n",
       "      <td>1.064509</td>\n",
       "      <td>1.064623</td>\n",
       "      <td>1.064509</td>\n",
       "      <td>1.064623</td>\n",
       "      <td>1.064623</td>\n",
       "      <td>0</td>\n",
       "    </tr>\n",
       "    <tr>\n",
       "      <th>2024-04-12 22:15:00</th>\n",
       "      <td>1.064623</td>\n",
       "      <td>1.064623</td>\n",
       "      <td>1.064623</td>\n",
       "      <td>1.064623</td>\n",
       "      <td>1.064623</td>\n",
       "      <td>0</td>\n",
       "    </tr>\n",
       "  </tbody>\n",
       "</table>\n",
       "<p>4066 rows × 6 columns</p>\n",
       "</div>"
      ],
      "text/plain": [
       "                         Open      High       Low     Close  Adj Close  Volume\n",
       "Datetime                                                                      \n",
       "2024-02-14 00:00:00  1.071123  1.071123  1.070893  1.071008   1.071008       0\n",
       "2024-02-14 00:15:00  1.071008  1.071467  1.071008  1.071467   1.071467       0\n",
       "2024-02-14 00:30:00  1.071467  1.071582  1.071352  1.071352   1.071352       0\n",
       "2024-02-14 00:45:00  1.071467  1.071697  1.071123  1.071123   1.071123       0\n",
       "2024-02-14 01:00:00  1.071008  1.071237  1.070664  1.070893   1.070893       0\n",
       "...                       ...       ...       ...       ...        ...     ...\n",
       "2024-04-12 21:15:00  1.064623  1.064623  1.064509  1.064509   1.064509       0\n",
       "2024-04-12 21:30:00  1.064509  1.064623  1.064396  1.064509   1.064509       0\n",
       "2024-04-12 21:45:00  1.064509  1.064509  1.064396  1.064396   1.064396       0\n",
       "2024-04-12 22:00:00  1.064509  1.064623  1.064509  1.064623   1.064623       0\n",
       "2024-04-12 22:15:00  1.064623  1.064623  1.064623  1.064623   1.064623       0\n",
       "\n",
       "[4066 rows x 6 columns]"
      ]
     },
     "execution_count": 19,
     "metadata": {},
     "output_type": "execute_result"
    }
   ],
   "source": [
    "df_intervals"
   ]
  },
  {
   "cell_type": "code",
   "execution_count": 5,
   "id": "c03ec601-1cef-41be-90b5-b3f392ec94fa",
   "metadata": {},
   "outputs": [
    {
     "data": {
      "text/plain": [
       "'{\"meta\":{\"code\":200,\"disclaimer\":\"Usage subject to terms: https:\\\\/\\\\/currencybeacon.com\\\\/terms\"},\"response\":{\"date\":\"2023-01-01\",\"base\":\"GBP\",\"rates\":{\"USD\":1.20801559}},\"date\":\"2023-01-01\",\"base\":\"GBP\",\"rates\":{\"USD\":1.20801559}}'"
      ]
     },
     "execution_count": 5,
     "metadata": {},
     "output_type": "execute_result"
    }
   ],
   "source": [
    "params = {'base':'GBP', 'symbols':'USD', 'date':'2023-01-01'}\n",
    "day=requests.get(url='https://api.currencybeacon.com/v1/historical?api_key=zMQbRfvWCFjnJmODoz9yis8BOMvA5chN',\n",
    "                 params=params)\n",
    "day.text          "
   ]
  },
  {
   "cell_type": "code",
   "execution_count": null,
   "id": "907da833-b91f-4ea5-a92a-eb292a3c540f",
   "metadata": {},
   "outputs": [],
   "source": [
    "oanda_api_key = 'a488493c1c01a6d005b1b6398319577c-57783c20d63069848f946284a1c60d53'"
   ]
  }
 ],
 "metadata": {
  "kernelspec": {
   "display_name": "Python 3 (ipykernel)",
   "language": "python",
   "name": "python3"
  },
  "language_info": {
   "codemirror_mode": {
    "name": "ipython",
    "version": 3
   },
   "file_extension": ".py",
   "mimetype": "text/x-python",
   "name": "python",
   "nbconvert_exporter": "python",
   "pygments_lexer": "ipython3",
   "version": "3.10.12"
  }
 },
 "nbformat": 4,
 "nbformat_minor": 5
}
