{
 "cells": [
  {
   "cell_type": "code",
   "execution_count": null,
   "metadata": {
    "collapsed": false
   },
   "outputs": [],
   "source": [
    "import pandas as pd\n",
    "import numpy as np\n",
    "import datetime\n",
    "import seaborn as sns\n",
    "import talib\n",
    "import plotly\n",
    "import plotly.graph_objects as go\n",
    "import plotly.offline as py\n",
    "import math\n",
    "from hyperopt import tpe, Trials, fmin\n",
    "import hyperopt as hp\n",
    "from geneticalgorithm import geneticalgorithm as ga\n",
    "from binance.client import Client"
   ]
  },
  {
   "cell_type": "code",
   "execution_count": null,
   "metadata": {
    "collapsed": false
   },
   "outputs": [],
   "source": [
    "client = Client()\n",
    "candles = client.get_klines(symbol='BNBBTC', interval=Client.KLINE_INTERVAL_30MINUTE)"
   ]
  },
  {
   "cell_type": "code",
   "execution_count": null,
   "metadata": {
    "collapsed": true
   },
   "outputs": [],
   "source": [
    "val_set = client.get_klines(symbol='ATOMBTC', interval=Client.KLINE_INTERVAL_15MINUTE, limit=1000)\n",
    "val_set = pd.DataFrame(val_set)\n",
    "val_set.columns = ['open_time','open','high','low','close','volume','close_time','quote_asset_volume','number_of_trades', 'a', 'b', 'c']\n",
    "val_set = val_set[['open_time','close_time','open','high','low','close','volume','quote_asset_volume','number_of_trades']]\n",
    "val_set['open'] = val_set['open'].astype(float)\n",
    "val_set['high'] = val_set['high'].astype(float)\n",
    "val_set['low'] = val_set['low'].astype(float)\n",
    "val_set['close'] = val_set['close'].astype(float)"
   ]
  },
  {
   "cell_type": "code",
   "execution_count": null,
   "metadata": {
    "collapsed": false
   },
   "outputs": [],
   "source": [
    "from binance.client import Client\n",
    "\n",
    "def import_data(symbol='ATOMBTC', limit=1000):\n",
    "    \n",
    "    client = Client()\n",
    "    candles = client.get_klines(symbol=symbol, interval=Client.KLINE_INTERVAL_15MINUTE, limit=limit)\n",
    "    \n",
    "    df = pd.DataFrame(candles)\n",
    "    df.columns = ['open_time','open','high','low','close','volume','close_time','quote_asset_volume','number_of_trades', 'a', 'b', 'c']\n",
    "    df = df[['open_time','close_time','open','high','low','close','volume','quote_asset_volume','number_of_trades']]\n",
    "    df['open'] = df['open'].astype(float)\n",
    "    df['high'] = df['high'].astype(float)\n",
    "    df['low'] = df['low'].astype(float)\n",
    "    df['close'] = df['close'].astype(float)\n",
    "    \n",
    "    return df\n",
    "\n",
    "df = import_data(symbol='ATOMBTC', limit=1000)"
   ]
  },
  {
   "cell_type": "code",
   "execution_count": null,
   "metadata": {
    "collapsed": true
   },
   "outputs": [],
   "source": [
    "df = import_data(symbol='ATOMBTC', limit=2000)"
   ]
  },
  {
   "cell_type": "code",
   "execution_count": null,
   "metadata": {
    "collapsed": false
   },
   "outputs": [],
   "source": [
    "df.shape"
   ]
  },
  {
   "cell_type": "code",
   "execution_count": null,
   "metadata": {
    "collapsed": true
   },
   "outputs": [],
   "source": [
    "bol = df.copy()\n",
    "upper, middle, lower = talib.BBANDS(bol.open*100000, timeperiod=10, nbdevup=2, nbdevdn=2, matype=0)\n",
    "bol['bol_upper'], bol['bol_middle'], bol['bol_lower'] = upper/100000, middle/100000, lower/100000\n",
    "bol "
   ]
  },
  {
   "cell_type": "code",
   "execution_count": null,
   "metadata": {
    "collapsed": false
   },
   "outputs": [],
   "source": [
    "def rsi_buy_ind(rsi, buy_threshold):      \n",
    "    if rsi <= buy_threshold:\n",
    "        return 1\n",
    "    else:\n",
    "        return 0\n",
    "\n",
    "def rsi_sell_ind(rsi, sell_threshold):      \n",
    "    if rsi >= sell_threshold:\n",
    "        return 1 \n",
    "    else:\n",
    "        return 0\n",
    "    \n",
    "def macd_buy_ind(macd, buy_threshold):      \n",
    "    if macd <= buy_threshold:\n",
    "        return 1\n",
    "    else:\n",
    "        return 0\n",
    "\n",
    "def macd_sell_ind(macd, sell_threshold):      \n",
    "    if macd >= sell_threshold:\n",
    "        return 1 \n",
    "    else:\n",
    "        return 0\n",
    "    \n",
    "def bol_buy_ind(price, bol_lower, buffer):      \n",
    "    if price <= bol_lower * buffer:\n",
    "        return 1\n",
    "    else:\n",
    "        return 0\n",
    "\n",
    "def bol_sell_ind(price, bol_upper, buffer):      \n",
    "    if price >= bol_upper * buffer:\n",
    "        return 1 \n",
    "    else:\n",
    "        return 0\n",
    "\n",
    "def buy_sell_strategy1(df, timeperiod, buy_threshold, sell_threshold):\n",
    "    \n",
    "    df_strategy = df.copy()\n",
    "    \n",
    "    df_strategy['rsi'] = talib.RSI(df_strategy.open, timeperiod=timeperiod)\n",
    "\n",
    "    buy = np.vectorize(buy)\n",
    "    sell = np.vectorize(sell)\n",
    "\n",
    "    df_strategy['buy'] = buy(df_strategy['rsi'], buy_threshold)\n",
    "    df_strategy['sell'] = sell(df_strategy['rsi'], sell_threshold)\n",
    "    \n",
    "    return df_strategy\n",
    "\n",
    "def buy_sell_strategy2(df_in, \n",
    "                      rsi_timeperiod, rsi_buy_threshold, rsi_sell_threshold, w_rsi_buy, w_rsi_sell, \n",
    "                      macd_fastp, macd_slowp, macd_sigp, macd_buy_threshold, macd_sell_threshold, w_macd_buy, w_macd_sell, \n",
    "                      bol_period, bol_stdNbr, bol_buy_threshold, bol_sell_threshold, w_bol_buy, w_bol_sell, \n",
    "                      sell_point_execute, flexible_quantities, start_balance=0.001):\n",
    "    \n",
    "    buy_sigma_threshold = 0.7\n",
    "    sell_sigma_threshold = 0.7\n",
    "    \n",
    "    df = df_in.reset_index().copy()\n",
    "    \n",
    "    df['price'] = df['open']\n",
    "    df['balance'] = np.nan\n",
    "    df.loc[0, 'balance'] = start_balance\n",
    "    \n",
    "    df['rsi'] = talib.RSI(df.price, timeperiod=rsi_timeperiod)\n",
    "    df['macd'], df['macdsignal'], df['macdhist'] = talib.MACD(df.price, fastperiod=macd_fastp, slowperiod=macd_slowp, signalperiod=macd_sigp)    \n",
    "    upper, middle, lower = talib.BBANDS(df.price*100000, timeperiod=bol_period, nbdevup=bol_stdNbr, nbdevdn=bol_stdNbr, matype=0)\n",
    "    df['bol_upper'], df['bol_middle'], df['bol_lower'] = upper/100000, middle/100000, lower/100000\n",
    "    \n",
    "    df['rsi_buy_ind'] = np.vectorize(rsi_buy_ind)(df['rsi'], rsi_buy_threshold)\n",
    "    df['macd_buy_ind'] = np.vectorize(macd_buy_ind)(df['macd'], macd_buy_threshold)\n",
    "    df['bol_buy_ind'] = np.vectorize(bol_buy_ind)(df['price'], df['bol_lower'])\n",
    "    df['rsi_sell_ind'] = np.vectorize(rsi_sell_ind)(df['rsi'], rsi_sell_threshold)\n",
    "    df['macd_sell_ind'] = np.vectorize(macd_sell_ind)(df['macd'], macd_sell_threshold)\n",
    "    df['bol_sell_ind'] = np.vectorize(bol_sell_ind)(df['price'], df['bol_upper'])\n",
    "    \n",
    "    bought = False\n",
    "    stock_held = 0\n",
    "    balance = start_balance\n",
    "    sell_point_count = 0\n",
    "    \n",
    "    for i, pit in df.iterrows():\n",
    "        if not bought:\n",
    "            buy_sigma = w_rsi_buy * pit.rsi_buy_ind + w_macd_buy * pit.macd_buy_ind + w_bol_buy * pit.bol_buy_ind\n",
    "            df.loc[i, 'buy_sigma'] = buy_sigma\n",
    "            if buy_sigma >= buy_sigma_threshold:\n",
    "                df.loc[i, 'buy'] = 1\n",
    "                balance = balance - pit.price\n",
    "                bought = True\n",
    "            else:\n",
    "                df.loc[i, 'buy'] = 0    \n",
    "\n",
    "        else:\n",
    "            sell_sigma = w_rsi_sell * pit.rsi_sell_ind + w_macd_sell * pit.macd_sell_ind + w_bol_sell * pit.bol_sell_ind\n",
    "            df.loc[i, 'sell_sigma'] = sell_sigma\n",
    "            if sell_sigma >= sell_sigma_threshold:\n",
    "                sell_point_count = sell_point_count + 1\n",
    "                if sell_point_count >= sell_point_execute:\n",
    "                    df.loc[i, 'sell'] = 1\n",
    "                    balance = balance + pit.price\n",
    "                    bought = False\n",
    "                    sell_point_count = 0\n",
    "                else:\n",
    "                    df.loc[i, 'sell'] = 0\n",
    "            else:\n",
    "                df.loc[i, 'sell'] = 0\n",
    "                \n",
    "        df.loc[i, 'balance'] = balance\n",
    "    \n",
    "    return balance, df\n",
    "\n",
    "def buy_sell_strategy(df_in, \n",
    "                      rsi_timeperiod, rsi_buy_threshold, rsi_sell_threshold, w_rsi_buy, w_rsi_sell, \n",
    "                      macd_fastp, macd_slowp, macd_sigp, macd_buy_threshold, macd_sell_threshold, w_macd_buy, w_macd_sell, \n",
    "                      bol_period, bol_stdNbr, bol_buy_threshold, bol_sell_threshold, w_bol_buy, w_bol_sell, \n",
    "                      sell_point_execute, flexible_quantities, base_exchange_prop, start_balance=1):\n",
    "    \n",
    "    buy_sigma_threshold = 0.7\n",
    "    sell_sigma_threshold = 0.7\n",
    "    \n",
    "    df = df_in.reset_index().copy()\n",
    "    \n",
    "    df['price'] = df['open']\n",
    "    df['balance'] = np.nan\n",
    "    df.loc[0, 'balance'] = start_balance\n",
    "    \n",
    "    df['rsi'] = talib.RSI(df.price, timeperiod=rsi_timeperiod)\n",
    "    df['macd'], df['macdsignal'], df['macdhist'] = talib.MACD(df.price, fastperiod=macd_fastp, slowperiod=macd_slowp, signalperiod=macd_sigp)    \n",
    "    upper, middle, lower = talib.BBANDS(df.price*100000, timeperiod=bol_period, nbdevup=bol_stdNbr, nbdevdn=bol_stdNbr, matype=0)\n",
    "    df['bol_upper'], df['bol_middle'], df['bol_lower'] = upper/100000, middle/100000, lower/100000\n",
    "    \n",
    "    df['rsi_buy_ind'] = np.vectorize(rsi_buy_ind)(df['rsi'], rsi_buy_threshold)\n",
    "    df['macd_buy_ind'] = np.vectorize(macd_buy_ind)(df['macd'], macd_buy_threshold)\n",
    "    df['bol_buy_ind'] = np.vectorize(bol_buy_ind)(df['price'], df['bol_lower'], bol_buy_threshold)\n",
    "    df['rsi_sell_ind'] = np.vectorize(rsi_sell_ind)(df['rsi'], rsi_sell_threshold)\n",
    "    df['macd_sell_ind'] = np.vectorize(macd_sell_ind)(df['macd'], macd_sell_threshold)\n",
    "    df['bol_sell_ind'] = np.vectorize(bol_sell_ind)(df['price'], df['bol_upper'], bol_sell_threshold)\n",
    "    \n",
    "    bought = False\n",
    "    stock_held = 0\n",
    "    balance = start_balance\n",
    "    sell_point_count = 0\n",
    "    \n",
    "    #base_exchange = 100\n",
    "    \n",
    "    for i, pit in df.iterrows():\n",
    "        base_exchange = (balance/pit.price) * base_exchange_prop\n",
    "        buy_sigma = w_rsi_buy * pit.rsi_buy_ind + w_macd_buy * pit.macd_buy_ind + w_bol_buy * pit.bol_buy_ind\n",
    "        df.loc[i, 'buy_sigma'] = buy_sigma\n",
    "        if buy_sigma >= buy_sigma_threshold:\n",
    "            if flexible_quantities:\n",
    "                buy_quantity = base_exchange * buy_sigma/buy_sigma_threshold\n",
    "            else:\n",
    "                buy_quantity = base_exchange\n",
    "            buy_quantity = min(buy_quantity, balance/pit.price)\n",
    "            df.loc[i, 'buy'] = 1\n",
    "            df.loc[i, 'buy_quantity'] = buy_quantity\n",
    "            balance = balance - buy_quantity*pit.price\n",
    "            bought = True\n",
    "            stock_held = stock_held + buy_quantity\n",
    "        else:\n",
    "            df.loc[i, 'buy'] = 0\n",
    "            df.loc[i, 'buy_quantity'] = 0\n",
    "        sell_exchange = stock_held * base_exchange_prop\n",
    "        sell_sigma = w_rsi_sell * pit.rsi_sell_ind + w_macd_sell * pit.macd_sell_ind + w_bol_sell * pit.bol_sell_ind\n",
    "        df.loc[i, 'sell_sigma'] = sell_sigma\n",
    "        if stock_held > 0:\n",
    "            if sell_sigma >= sell_sigma_threshold:\n",
    "                sell_point_count = sell_point_count + 1\n",
    "                if flexible_quantities:\n",
    "                    sell_quantity = sell_exchange * sell_sigma/sell_sigma_threshold\n",
    "                else:\n",
    "                    sell_quantity = sell_exchange                    \n",
    "                sell_quantity = min(sell_quantity, stock_held)\n",
    "                if sell_point_count >= sell_point_execute:\n",
    "                    df.loc[i, 'sell'] = 1\n",
    "                    df.loc[i, 'sell_quantity'] = sell_quantity\n",
    "                    balance = balance + sell_quantity*pit.price\n",
    "                    stock_held = stock_held - sell_quantity\n",
    "                    bought = False\n",
    "                    sell_point_count = 0\n",
    "                else:\n",
    "                    df.loc[i, 'sell'] = 0\n",
    "                    df.loc[i, 'sell_quantity'] = 0\n",
    "            else:\n",
    "                df.loc[i, 'sell'] = 0\n",
    "                df.loc[i, 'sell_quantity'] = 0\n",
    "        else:\n",
    "            df.loc[i, 'sell'] = 0\n",
    "            df.loc[i, 'sell_quantity'] = 0\n",
    "            \n",
    "        df.loc[i, 'balance'] = balance\n",
    "        df.loc[i, 'stock_held'] = stock_held\n",
    "        \n",
    "    df_final_balance = df.balance.iat[-1]\n",
    "    df_final_stock_held = df.stock_held.iat[-1]\n",
    "    df_final_price = df.price.iat[-1]\n",
    "    \n",
    "    portfolio_value = df_final_balance + df_final_price*df_final_stock_held\n",
    " \n",
    "    if balance != df_final_balance:\n",
    "        raise ValueError('Balance mismatch between algorithm ('+str(balance)+') and df record ('+str(df_final_balance)+')')\n",
    "    if math.isnan(portfolio_value):\n",
    "        print('df_final_balance: ' + str(df_final_balance))\n",
    "        print('df_final_price: ' + str(df_final_price))\n",
    "        print('df_final_stock_held: ' + str(df_final_stock_held))\n",
    "        raise ValueError('portfolio_value is nan')\n",
    "      \n",
    "    return portfolio_value, df\n"
   ]
  },
  {
   "cell_type": "code",
   "execution_count": null,
   "metadata": {
    "collapsed": false
   },
   "outputs": [],
   "source": [
    "def objective_optimise_historic(params):\n",
    "\n",
    "    prices = df.copy()\n",
    "    \n",
    "    rsi_timeperiod = params[0]\n",
    "    rsi_buy_threshold = params[1]\n",
    "    rsi_sell_threshold = params[2]\n",
    "    w_rsi_buy = params[3]\n",
    "    w_rsi_sell = params[4]\n",
    "    \n",
    "    macd_fastp = params[5]\n",
    "    macd_slowp = params[6]\n",
    "    macd_sigp = params[7]\n",
    "    macd_buy_threshold = params[8]\n",
    "    macd_sell_threshold = params[9]\n",
    "    w_macd_buy = params[10]\n",
    "    w_macd_sell = params[11]\n",
    "    \n",
    "    bol_period = params[12]\n",
    "    bol_stdNbr = params[13]\n",
    "    bol_buy_threshold = params[14]\n",
    "    bol_sell_threshold = params[15]\n",
    "    w_bol_buy = params[16]\n",
    "    w_bol_sell = params[17]\n",
    "    \n",
    "    sell_point_execute = params[18]\n",
    "    flexible_quantities = params[19]\n",
    "    base_exchange_prop = params[20]\n",
    "    \n",
    "    if cross_validate:\n",
    "\n",
    "        length = int(round(prices.shape[0]/5))\n",
    "        cut1 = prices.iloc[:length, :]\n",
    "        cut2 = prices.iloc[length:2*length, :]\n",
    "        cut3 = prices.iloc[2*length:3*length, :]\n",
    "        cut4 = prices.iloc[3*length:4*length, :]\n",
    "        cut5 = prices.iloc[4*length:, :]\n",
    "        \n",
    "        cuts = [cut1, cut2, cut3, cut4, cut5]\n",
    "        balances = []\n",
    "        \n",
    "        for cut in cuts:\n",
    "            balance, prices_strategy = buy_sell_strategy(cut, rsi_timeperiod, rsi_buy_threshold, rsi_sell_threshold, w_rsi_buy, w_rsi_sell, \n",
    "                                                         macd_fastp, macd_slowp, macd_sigp, macd_buy_threshold, macd_sell_threshold, w_macd_buy, w_macd_sell, \n",
    "                                                         bol_period, bol_stdNbr, bol_buy_threshold, bol_sell_threshold, w_bol_buy, w_bol_sell,\n",
    "                                                         sell_point_execute, flexible_quantities, base_exchange_prop)\n",
    "            balances = balances + [balance]\n",
    "            \n",
    "        balance = np.mean(balances)\n",
    "        \n",
    "    else:\n",
    "        \n",
    "        balance, prices_strategy = buy_sell_strategy(prices, rsi_timeperiod, rsi_buy_threshold, rsi_sell_threshold, w_rsi_buy, w_rsi_sell, \n",
    "                                                     macd_fastp, macd_slowp, macd_sigp, macd_buy_threshold, macd_sell_threshold, w_macd_buy, w_macd_sell, \n",
    "                                                     bol_period, bol_stdNbr, bol_buy_threshold, bol_sell_threshold, w_bol_buy, w_bol_sell,\n",
    "                                                     sell_point_execute, flexible_quantities, base_exchange_prop)\n",
    "\n",
    "    return - balance\n",
    " "
   ]
  },
  {
   "cell_type": "code",
   "execution_count": null,
   "metadata": {
    "collapsed": false
   },
   "outputs": [],
   "source": [
    "def optimise_strategy(search_space, iterations, pop_size, max_iteration_without_improv=None):\n",
    "\n",
    "    ga_param = {'max_num_iteration': iterations,\n",
    "                'population_size': pop_size,\n",
    "                'mutation_probability': 0.1,\n",
    "                'elit_ratio': 0.01,\n",
    "                'crossover_probability': 0.5,\n",
    "                'parents_portion': 0.3,\n",
    "                'crossover_type': 'uniform',\n",
    "                'max_iteration_without_improv': max_iteration_without_improv}\n",
    "\n",
    "    space_ga = np.array([search_space['rsi_timeperiod'],search_space['rsi_buy_threshold'],search_space['rsi_sell_threshold'],\n",
    "                         search_space['w_rsi_buy'],search_space['w_rsi_sell'],search_space['macd_fastp'],search_space['macd_slowp'],\n",
    "                         search_space['macd_sigp'],search_space['macd_buy_threshold'],search_space['macd_sell_threshold'],\n",
    "                         search_space['w_macd_buy'],search_space['w_macd_sell'],search_space['bol_period'],search_space['bol_stdNbr'],\n",
    "                         search_space['bol_buy_threshold'],search_space['bol_sell_threshold'],search_space['w_bol_buy'],\n",
    "                         search_space['w_bol_sell'], search_space['sell_point_execute'], search_space['flexible_quantities'],\n",
    "                         search_space['base_exchange_prop']])\n",
    "    \n",
    "    vartypes_ga = np.array([['int'],['real'],['real'],['real'],['real'],\n",
    "                           ['int'],['int'],['int'],['real'],['real'],['real'],['real'],\n",
    "                           ['int'],['int'],['real'],['real'],['real'],['real'],\n",
    "                           ['int'],['int'], ['real']])\n",
    "\n",
    "    best=ga(function=objective_optimise_historic, \n",
    "            dimension=len(space_ga), \n",
    "            variable_type_mixed=vartypes_ga,\n",
    "            variable_boundaries=space_ga, \n",
    "            algorithm_parameters=ga_param)\n",
    "    best.run()\n",
    "\n",
    "    strategy = {'rsi_timeperiod': best.output_dict['variable'][0],\n",
    "                'rsi_buy_threshold': best.output_dict['variable'][1],\n",
    "                'rsi_sell_threshold': best.output_dict['variable'][2],\n",
    "                'w_rsi_buy': best.output_dict['variable'][3],\n",
    "                'w_rsi_sell': best.output_dict['variable'][4],\n",
    "                'macd_fastp': best.output_dict['variable'][5],\n",
    "                'macd_slowp': best.output_dict['variable'][6],\n",
    "                'macd_sigp': best.output_dict['variable'][7],\n",
    "                'macd_buy_threshold': best.output_dict['variable'][8],\n",
    "                'macd_sell_threshold': best.output_dict['variable'][9],\n",
    "                'w_macd_buy': best.output_dict['variable'][10],\n",
    "                'w_macd_sell': best.output_dict['variable'][11],\n",
    "                'bol_period': best.output_dict['variable'][12],\n",
    "                'bol_stdNbr': best.output_dict['variable'][13],\n",
    "                'bol_buy_threshold': best.output_dict['variable'][14],\n",
    "                'bol_sell_threshold': best.output_dict['variable'][15],\n",
    "                'w_bol_buy': best.output_dict['variable'][16],\n",
    "                'w_bol_sell': best.output_dict['variable'][17],\n",
    "                'sell_point_execute': best.output_dict['variable'][18],\n",
    "                'flexible_quantities': best.output_dict['variable'][19],\n",
    "                'base_exchange_prop': best.output_dict['variable'][20]}\n",
    "\n",
    "    return strategy"
   ]
  },
  {
   "cell_type": "code",
   "execution_count": null,
   "metadata": {
    "collapsed": false
   },
   "outputs": [],
   "source": [
    "search_space = {'rsi_timeperiod': [2,28],\n",
    "                'rsi_buy_threshold': [10,40],\n",
    "                'rsi_sell_threshold': [50,80],\n",
    "                'w_rsi_buy': [0, 1],\n",
    "                'w_rsi_sell': [0, 1],\n",
    "                'macd_fastp': [12, 12],\n",
    "                'macd_slowp': [26, 26],\n",
    "                'macd_sigp': [9, 9],\n",
    "                'macd_buy_threshold': [0, 0],\n",
    "                'macd_sell_threshold': [0, 0],\n",
    "                'w_macd_buy': [0, 0],\n",
    "                'w_macd_sell': [0, 0],\n",
    "                'bol_period': [2, 20],\n",
    "                'bol_stdNbr': [2, 6],\n",
    "                'bol_buy_threshold': [1, 1],\n",
    "                'bol_sell_threshold': [1, 1],\n",
    "                'w_bol_buy': [0, 1],\n",
    "                'w_bol_sell': [0, 1],\n",
    "                'sell_point_execute': [1, 1],\n",
    "                'flexible_quantities': [0, 0],\n",
    "                'base_exchange_prop': [0.2, 0.2]\n",
    "               }\n",
    "cross_validate = False\n",
    "optimal_strategy = optimise_strategy(search_space, iterations=6, pop_size=10, max_iteration_without_improv=30)"
   ]
  },
  {
   "cell_type": "code",
   "execution_count": null,
   "metadata": {
    "collapsed": false
   },
   "outputs": [],
   "source": [
    "def apply_strategy(df, strategy, plot=True):\n",
    "    \n",
    "    prices = df.copy()\n",
    "\n",
    "    balance, applied_strategy = buy_sell_strategy(prices, \n",
    "                                                  strategy['rsi_timeperiod'],strategy['rsi_buy_threshold'],strategy['rsi_sell_threshold'],\n",
    "                                                  strategy['w_rsi_buy'],strategy['w_rsi_sell'],strategy['macd_fastp'],strategy['macd_slowp'],\n",
    "                                                  strategy['macd_sigp'],strategy['macd_buy_threshold'],strategy['macd_sell_threshold'],\n",
    "                                                  strategy['w_macd_buy'],strategy['w_macd_sell'],strategy['bol_period'],strategy['bol_stdNbr'],\n",
    "                                                  strategy['bol_buy_threshold'],strategy['bol_sell_threshold'],strategy['w_bol_buy'],\n",
    "                                                  strategy['w_bol_sell'], strategy['sell_point_execute'], search_space['flexible_quantities'],\n",
    "                                                  strategy['base_exchange_prop'])\n",
    "    \n",
    "    print('Final balance: ' + str(balance))\n",
    "    \n",
    "    if plot:\n",
    "        buys = applied_strategy[applied_strategy.buy==1]\n",
    "        sells = applied_strategy[applied_strategy.sell==1]\n",
    "\n",
    "        Candle = go.Candlestick(x=applied_strategy.open_time,\n",
    "                            open=applied_strategy.open,\n",
    "                            high=applied_strategy.high,\n",
    "                            low=applied_strategy.low,\n",
    "                            close=applied_strategy.close\n",
    "                            )\n",
    "\n",
    "        Trace = go.Scatter(x=buys.open_time,\n",
    "                           y=buys.open,\n",
    "                           mode='markers',\n",
    "                           name ='buy',\n",
    "                           marker=go.scatter.Marker(size=10, color='blue', symbol='cross')\n",
    "                           )\n",
    "\n",
    "        Trace2 = go.Scatter(x=sells.open_time,\n",
    "                           y=sells.open,\n",
    "                           mode='markers',\n",
    "                           name ='sell',\n",
    "                           marker=go.scatter.Marker(size=10, color='black', symbol='cross')\n",
    "                           )\n",
    "\n",
    "        py.plot([Candle, Trace, Trace2])    \n",
    "\n",
    "    return applied_strategy"
   ]
  },
  {
   "cell_type": "code",
   "execution_count": null,
   "metadata": {
    "collapsed": false
   },
   "outputs": [],
   "source": [
    "out = apply_strategy(df, optimal_strategy, plot=True)"
   ]
  },
  {
   "cell_type": "code",
   "execution_count": null,
   "metadata": {
    "collapsed": false
   },
   "outputs": [],
   "source": [
    "out"
   ]
  },
  {
   "cell_type": "code",
   "execution_count": null,
   "metadata": {
    "collapsed": false
   },
   "outputs": [],
   "source": [
    "out[out.sell==1]"
   ]
  },
  {
   "cell_type": "code",
   "execution_count": null,
   "metadata": {
    "collapsed": false
   },
   "outputs": [],
   "source": [
    "val = apply_strategy(val_set, optimal_strategy, plot=False)"
   ]
  },
  {
   "cell_type": "code",
   "execution_count": null,
   "metadata": {
    "collapsed": false
   },
   "outputs": [],
   "source": [
    "out.balance"
   ]
  },
  {
   "cell_type": "code",
   "execution_count": null,
   "metadata": {
    "collapsed": false
   },
   "outputs": [],
   "source": [
    "out.balance.iat[-1]"
   ]
  },
  {
   "cell_type": "code",
   "execution_count": null,
   "metadata": {
    "collapsed": true
   },
   "outputs": [],
   "source": [
    "'''\n",
    "##add cross validation##\n",
    "add stop loss\n",
    "##skip first sell point##\n",
    "add sell if gain x% order\n",
    "add buy/sell quantity based on strength of indicators \n",
    "'''"
   ]
  },
  {
   "cell_type": "code",
   "execution_count": null,
   "metadata": {
    "collapsed": true
   },
   "outputs": [],
   "source": []
  },
  {
   "cell_type": "code",
   "execution_count": null,
   "metadata": {
    "collapsed": true
   },
   "outputs": [],
   "source": []
  },
  {
   "cell_type": "code",
   "execution_count": null,
   "metadata": {
    "collapsed": true
   },
   "outputs": [],
   "source": [
    "bayes_trials = Trials()\n",
    "best = fmin(fn = objective_optimise_historic, space = space_opt, algo = tpe.suggest, max_evals = 200, trials = bayes_trials)"
   ]
  },
  {
   "cell_type": "code",
   "execution_count": null,
   "metadata": {
    "collapsed": false
   },
   "outputs": [],
   "source": [
    "optimal_strategy"
   ]
  },
  {
   "cell_type": "code",
   "execution_count": null,
   "metadata": {
    "collapsed": true
   },
   "outputs": [],
   "source": [
    "{'bol_buy_threshold': 0.0,\n",
    " 'bol_period': 10.0,\n",
    " 'bol_sell_threshold': 0.0,\n",
    " 'bol_stdNbr': 2.0,\n",
    " 'macd_buy_threshold': 0.0,\n",
    " 'macd_fastp': 12.0,\n",
    " 'macd_sell_threshold': 0.0,\n",
    " 'macd_sigp': 9.0,\n",
    " 'macd_slowp': 26.0,\n",
    " 'rsi_buy_threshold': 19.807844365072651,\n",
    " 'rsi_sell_threshold': 65.031637396731796,\n",
    " 'rsi_timeperiod': 11.0,\n",
    " 'w_bol_buy': 0.0,\n",
    " 'w_bol_sell': 0.0,\n",
    " 'w_macd_buy': 0.0,\n",
    " 'w_macd_sell': 0.0,\n",
    " 'w_rsi_buy': 1.0,\n",
    " 'w_rsi_sell': 1.0}"
   ]
  },
  {
   "cell_type": "code",
   "execution_count": null,
   "metadata": {
    "collapsed": false
   },
   "outputs": [],
   "source": [
    "# 6.54% gains\n",
    "strat = {'bol_buy_threshold': 0.0,\n",
    " 'bol_period': 10.0,\n",
    " 'bol_sell_threshold': 0.0,\n",
    " 'bol_stdNbr': 2.0,\n",
    " 'macd_buy_threshold': 0.0,\n",
    " 'macd_fastp': 12.0,\n",
    " 'macd_sell_threshold': 0.0,\n",
    " 'macd_sigp': 9.0,\n",
    " 'macd_slowp': 26.0,\n",
    " 'rsi_buy_threshold': 25.418923746523333,\n",
    " 'rsi_sell_threshold': 61.5440828284679,\n",
    " 'rsi_timeperiod': 15.0,\n",
    " 'w_bol_buy': 0.0,\n",
    " 'w_bol_sell': 0.0,\n",
    " 'w_macd_buy': 0.0,\n",
    " 'w_macd_sell': 0.0,\n",
    " 'w_rsi_buy': 1.0,\n",
    " 'w_rsi_sell': 1.0,\n",
    " 'sell_point_execute': 1.0}"
   ]
  },
  {
   "cell_type": "code",
   "execution_count": null,
   "metadata": {
    "collapsed": false
   },
   "outputs": [],
   "source": [
    "# 9.1% gains, low period RSI with sell order execution count\n",
    "short_period_strat = {'bol_buy_threshold': 0.0,\n",
    " 'bol_period': 10.0,\n",
    " 'bol_sell_threshold': 0.0,\n",
    " 'bol_stdNbr': 2.0,\n",
    " 'macd_buy_threshold': 0.0,\n",
    " 'macd_fastp': 12.0,\n",
    " 'macd_sell_threshold': 0.0,\n",
    " 'macd_sigp': 9.0,\n",
    " 'macd_slowp': 26.0,\n",
    " 'rsi_buy_threshold': 23.15940701875649,\n",
    " 'rsi_sell_threshold': 73.163760739388707,\n",
    " 'rsi_timeperiod': 2.0,\n",
    " 'sell_point_execute': 4.0,\n",
    " 'w_bol_buy': 0.0,\n",
    " 'w_bol_sell': 0.0,\n",
    " 'w_macd_buy': 0.0,\n",
    " 'w_macd_sell': 0.0,\n",
    " 'w_rsi_buy': 1.0,\n",
    " 'w_rsi_sell': 1.0}"
   ]
  },
  {
   "cell_type": "code",
   "execution_count": null,
   "metadata": {
    "collapsed": false
   },
   "outputs": [],
   "source": [
    "# 15.7% gains, low period RSI with sell order execution count 2, cross validated\n",
    "short_period_strat = {'bol_buy_threshold': 1.0,\n",
    " 'bol_period': 15.0,\n",
    " 'bol_sell_threshold': 1.0,\n",
    " 'bol_stdNbr': 2.0,\n",
    " 'flexible_quantities': 1.0,\n",
    " 'macd_buy_threshold': 0.0,\n",
    " 'macd_fastp': 12.0,\n",
    " 'macd_sell_threshold': 0.0,\n",
    " 'macd_sigp': 9.0,\n",
    " 'macd_slowp': 26.0,\n",
    " 'rsi_buy_threshold': 23.572504579146486,\n",
    " 'rsi_sell_threshold': 52.693718967377684,\n",
    " 'rsi_timeperiod': 3.0,\n",
    " 'sell_point_execute': 2.0,\n",
    " 'w_bol_buy': 0.79927168707409024,\n",
    " 'w_bol_sell': 0.32621191375546432,\n",
    " 'w_macd_buy': 0.0,\n",
    " 'w_macd_sell': 0.0,\n",
    " 'w_rsi_buy': 0.48791580460814421,\n",
    " 'w_rsi_sell': 0.81777549294417684}"
   ]
  },
  {
   "cell_type": "code",
   "execution_count": null,
   "metadata": {
    "collapsed": true
   },
   "outputs": [],
   "source": []
  }
 ],
 "metadata": {
  "kernelspec": {
   "display_name": "Python 3",
   "language": "python",
   "name": "python3"
  },
  "language_info": {
   "codemirror_mode": {
    "name": "ipython",
    "version": 3
   },
   "file_extension": ".py",
   "mimetype": "text/x-python",
   "name": "python",
   "nbconvert_exporter": "python",
   "pygments_lexer": "ipython3",
   "version": "3.6.0"
  }
 },
 "nbformat": 4,
 "nbformat_minor": 2
}
